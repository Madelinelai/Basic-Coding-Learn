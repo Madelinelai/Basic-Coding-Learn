{
  "nbformat": 4,
  "nbformat_minor": 0,
  "metadata": {
    "colab": {
      "name": "2-1.5_numpy_pandas.ipynb",
      "provenance": [],
      "include_colab_link": true
    },
    "kernelspec": {
      "name": "python3",
      "display_name": "Python 3"
    }
  },
  "cells": [
    {
      "cell_type": "markdown",
      "metadata": {
        "id": "view-in-github",
        "colab_type": "text"
      },
      "source": [
        "<a href=\"https://colab.research.google.com/github/Madelinelai/Basic-Coding-Learn/blob/master/1_2_numpy_pandas.ipynb\" target=\"_parent\"><img src=\"https://colab.research.google.com/assets/colab-badge.svg\" alt=\"Open In Colab\"/></a>"
      ]
    },
    {
      "cell_type": "markdown",
      "metadata": {
        "id": "E7X-wwiqihqe"
      },
      "source": [
        "# **Numpy 與 Pandas 介紹**\n",
        "Numpy 跟 Pandas 是機器學習當中兩個常用的套件。其中 Numpy 提供許多數學公式的實作以及高效率的陣列、矩陣運算。Pandas 提供方便的資料處理與資料分析功能。"
      ]
    },
    {
      "cell_type": "markdown",
      "metadata": {
        "id": "LpjJzNqPho9p"
      },
      "source": [
        "# **Numpy 簡介**\n",
        "\n",
        "[參考資料](https://machine-learning-notes.gitlab.io/docs/python/numpy/)"
      ]
    },
    {
      "cell_type": "code",
      "metadata": {
        "id": "v-tzMshPhV1m",
        "colab": {
          "base_uri": "https://localhost:8080/",
          "height": 241
        },
        "outputId": "6a6e60cd-b895-4f75-ba47-4a1952c04071"
      },
      "source": [
        "import numpy as np\n",
        "\n",
        "a = np.array([0, 1, 2])            # 建立一維的 array\n",
        "print(type(a))                     # 印出 \"<class 'numpy.ndarray'>\"\n",
        "print(a.shape)                     # 印出 \"(3,)\"\n",
        "print(a[0], a[1], a[2])            # 印出 \"0 1 2\"\n",
        "b = np.array([[1,2,3],[4,5,6]])    # 建立二維的 array\n",
        "print(b.shape)                     # 印出 \"(2, 3)\"\n",
        "print(b[0, 0], b[0, 1], b[1, 0])   # 印出 \"1 2 4\"\n",
        "\n",
        "c = np.zeros((2,2))   # 建立 2x2 全 0 的 array\n",
        "print(c)              # 印出 \"[[ 0.  0.]\n",
        "                      #        [ 0.  0.]]\"\n",
        "d = np.ones((1,2))    # 建立 1x2 全 1 的 array\n",
        "\n",
        "# indexing\n",
        "b = np.array([[1,2,3],[4,5,6]]) \n",
        "print(b[:, 1])   # 印出 \"[2 5]\", 第零維任意且第一維 1 的值\n",
        "print(b[:, 1:])  # 印出 \"[[2 3]\n",
        "                 #        [5 6]]\", 第零維任意且第一維 1 (含)以上的值\n",
        "\n",
        "# Boolean indexing\n",
        "a = np.array([0, 1, 2])\n",
        "print(a > 1)     # 印出 \"[False, False, True]\"\n",
        "print(a[a > 1])  # 印出 \"[2]\""
      ],
      "execution_count": null,
      "outputs": [
        {
          "output_type": "stream",
          "text": [
            "<class 'numpy.ndarray'>\n",
            "(3,)\n",
            "0 1 2\n",
            "(2, 3)\n",
            "1 2 4\n",
            "[[0. 0.]\n",
            " [0. 0.]]\n",
            "[2 5]\n",
            "[[2 3]\n",
            " [5 6]]\n",
            "[False False  True]\n",
            "[2]\n"
          ],
          "name": "stdout"
        }
      ]
    },
    {
      "cell_type": "code",
      "metadata": {
        "id": "QKC1YsVuhimw",
        "colab": {
          "base_uri": "https://localhost:8080/",
          "height": 92
        },
        "outputId": "1cf5b8df-1a9d-4aa6-b3ce-478f0ea83825"
      },
      "source": [
        "import numpy as np\n",
        "\n",
        "x = np.array([1.0, 2.0])\n",
        "print(x.dtype)                           # 印出 \"float64\"\n",
        "x = np.array([1, 2])\n",
        "print(x.dtype)                           # 印出 \"int32\"\n",
        "x = np.array([1.0, 2.0], dtype=np.int8)  # 可以指定資料型態\n",
        "print(x.dtype)                           # 印出 \"int8\"\n",
        "x[0] += 1000\n",
        "print(x)                                 # 印出 \"[-23 2]\" int8 範圍為 -128 ~ 127，直接加 1000 會溢位"
      ],
      "execution_count": null,
      "outputs": [
        {
          "output_type": "stream",
          "text": [
            "float64\n",
            "int64\n",
            "int8\n",
            "[-23   2]\n"
          ],
          "name": "stdout"
        }
      ]
    },
    {
      "cell_type": "code",
      "metadata": {
        "id": "l_tXdBNqjFPW",
        "colab": {
          "base_uri": "https://localhost:8080/",
          "height": 92
        },
        "outputId": "cfe3bfd2-ac00-40ff-b12e-bb5cc721b152"
      },
      "source": [
        "print(np.random.randn(3))        # 隨機亂數\n",
        "print(np.dot([1,2,3], [4,5,6]))  # 向量內積\n",
        "a = np.array([[1, 2], [2, 1]])\n",
        "b = np.array([[1, 2], [2, 4]])\n",
        "print(np.matmul(a, b))           # 矩陣相乘"
      ],
      "execution_count": null,
      "outputs": [
        {
          "output_type": "stream",
          "text": [
            "[-0.23222358  0.76552081  0.20760801]\n",
            "32\n",
            "[[ 5 10]\n",
            " [ 4  8]]\n"
          ],
          "name": "stdout"
        }
      ]
    },
    {
      "cell_type": "markdown",
      "metadata": {
        "id": "EuBRZGpahygA"
      },
      "source": [
        "# **Pandas 簡介**\n",
        "\n",
        "[參考資料](https://machine-learning-notes.gitlab.io/docs/python/pandas/)"
      ]
    },
    {
      "cell_type": "code",
      "metadata": {
        "id": "ZnYiqxq8h2rQ",
        "colab": {
          "base_uri": "https://localhost:8080/",
          "height": 92
        },
        "outputId": "12bb112a-591b-4989-ed91-574857b2a57f"
      },
      "source": [
        "import pandas as pd\n",
        "\n",
        "s = pd.Series(np.random.randn(3), index=['a', 'b', 'c'])\n",
        "print(s)"
      ],
      "execution_count": null,
      "outputs": [
        {
          "output_type": "stream",
          "text": [
            "a   -0.522425\n",
            "b   -0.768493\n",
            "c    1.940314\n",
            "dtype: float64\n"
          ],
          "name": "stdout"
        }
      ]
    },
    {
      "cell_type": "code",
      "metadata": {
        "id": "4Rm0QBQfh6Ov",
        "colab": {
          "base_uri": "https://localhost:8080/",
          "height": 111
        },
        "outputId": "94a8b658-176a-48ca-b0aa-e214d1cb5958"
      },
      "source": [
        "d = {\n",
        "    'A': pd.Series(np.random.randn(3), index=['a', 'b', 'c']),\n",
        "    'B': pd.Series(np.random.randn(4), index=['a', 'b', 'c', 'd'])\n",
        "}\n",
        "\n",
        "df = pd.DataFrame(d)\n",
        "print(df)"
      ],
      "execution_count": null,
      "outputs": [
        {
          "output_type": "stream",
          "text": [
            "          A         B\n",
            "a -0.745534 -0.008578\n",
            "b -0.886710  0.281486\n",
            "c -0.470272  0.453517\n",
            "d       NaN -0.963699\n"
          ],
          "name": "stdout"
        }
      ]
    },
    {
      "cell_type": "code",
      "metadata": {
        "id": "VRv9oxuTh-jj",
        "colab": {
          "base_uri": "https://localhost:8080/",
          "height": 73
        },
        "outputId": "9581c563-93c4-40d6-c0b8-710335da0af6"
      },
      "source": [
        "data = [\n",
        "    [1, 2, 3],\n",
        "    [3, 4, 5]\n",
        "]\n",
        "\n",
        "df = pd.DataFrame(data, columns=['A', 'B', 'C'])\n",
        "print(df)"
      ],
      "execution_count": null,
      "outputs": [
        {
          "output_type": "stream",
          "text": [
            "   A  B  C\n",
            "0  1  2  3\n",
            "1  3  4  5\n"
          ],
          "name": "stdout"
        }
      ]
    },
    {
      "cell_type": "code",
      "metadata": {
        "id": "rhhD0KpBiD_n",
        "colab": {
          "base_uri": "https://localhost:8080/",
          "height": 335
        },
        "outputId": "981d05ed-74ec-4e9c-b891-be1424bd5cae"
      },
      "source": [
        "df = pd.DataFrame(np.random.randn(6, 4), columns=list('ABCD'))\n",
        "print(df)\n",
        "print('--------------')\n",
        "print(df.head())\n",
        "print('--------------')\n",
        "print(df.tail(1))"
      ],
      "execution_count": null,
      "outputs": [
        {
          "output_type": "stream",
          "text": [
            "          A         B         C         D\n",
            "0 -0.503559 -0.505120  1.762016 -0.733032\n",
            "1 -0.341494  0.274674 -0.112428  1.039485\n",
            "2 -1.202137  0.467725 -0.628200 -0.074857\n",
            "3  0.648787  0.947257  0.828798 -0.143545\n",
            "4 -0.669693 -1.571197  1.154229  0.088604\n",
            "5  0.515418 -1.965141  1.849047  2.739605\n",
            "--------------\n",
            "          A         B         C         D\n",
            "0 -0.503559 -0.505120  1.762016 -0.733032\n",
            "1 -0.341494  0.274674 -0.112428  1.039485\n",
            "2 -1.202137  0.467725 -0.628200 -0.074857\n",
            "3  0.648787  0.947257  0.828798 -0.143545\n",
            "4 -0.669693 -1.571197  1.154229  0.088604\n",
            "--------------\n",
            "          A         B         C         D\n",
            "5  0.515418 -1.965141  1.849047  2.739605\n"
          ],
          "name": "stdout"
        }
      ]
    },
    {
      "cell_type": "code",
      "metadata": {
        "id": "EeA028LDiH8y",
        "colab": {
          "base_uri": "https://localhost:8080/",
          "height": 260
        },
        "outputId": "f983744c-3a6a-4bd2-cc6b-2af5b2ce94ba"
      },
      "source": [
        "print(df.values)\n",
        "print('--------------')\n",
        "print(df.to_numpy())"
      ],
      "execution_count": null,
      "outputs": [
        {
          "output_type": "stream",
          "text": [
            "[[-0.50355911 -0.50512033  1.76201632 -0.73303227]\n",
            " [-0.34149351  0.27467382 -0.11242813  1.03948533]\n",
            " [-1.20213742  0.46772454 -0.62820012 -0.07485729]\n",
            " [ 0.64878736  0.94725737  0.82879772 -0.14354526]\n",
            " [-0.6696928  -1.57119651  1.1542291   0.0886042 ]\n",
            " [ 0.51541817 -1.96514119  1.84904702  2.73960521]]\n",
            "--------------\n",
            "[[-0.50355911 -0.50512033  1.76201632 -0.73303227]\n",
            " [-0.34149351  0.27467382 -0.11242813  1.03948533]\n",
            " [-1.20213742  0.46772454 -0.62820012 -0.07485729]\n",
            " [ 0.64878736  0.94725737  0.82879772 -0.14354526]\n",
            " [-0.6696928  -1.57119651  1.1542291   0.0886042 ]\n",
            " [ 0.51541817 -1.96514119  1.84904702  2.73960521]]\n"
          ],
          "name": "stdout"
        }
      ]
    },
    {
      "cell_type": "code",
      "metadata": {
        "id": "ge-d1P9riP1w",
        "colab": {
          "base_uri": "https://localhost:8080/",
          "height": 185
        },
        "outputId": "c0cd83be-1279-4449-82d7-632c05b11eb6"
      },
      "source": [
        "print(df.describe())"
      ],
      "execution_count": null,
      "outputs": [
        {
          "output_type": "stream",
          "text": [
            "              A         B         C         D\n",
            "count  6.000000  6.000000  6.000000  6.000000\n",
            "mean  -0.258780 -0.391967  0.808910  0.486043\n",
            "std    0.713946  1.170920  1.002406  1.244181\n",
            "min   -1.202137 -1.965141 -0.628200 -0.733032\n",
            "25%   -0.628159 -1.304677  0.122878 -0.126373\n",
            "50%   -0.422526 -0.115223  0.991513  0.006873\n",
            "75%    0.301190  0.419462  1.610070  0.801765\n",
            "max    0.648787  0.947257  1.849047  2.739605\n"
          ],
          "name": "stdout"
        }
      ]
    }
  ]
}